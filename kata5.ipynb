{
 "cells": [
  {
   "cell_type": "markdown",
   "metadata": {},
   "source": [
    "# Ejercicio1 - Utilizar operadores aritméticos\n",
    "\n",
    "Operadores aritméticos en Python"
   ]
  },
  {
   "cell_type": "code",
   "execution_count": 14,
   "metadata": {},
   "outputs": [
    {
     "name": "stdout",
     "output_type": "stream",
     "text": [
      "hola tripulante aqui podras calcular la distancia entre dos planetas : la tierra y jupoter.\n"
     ]
    }
   ],
   "source": [
    "print(\"hola tripulante aqui podras calcular la distancia entre dos planetas : la tierra y jupoter.\")\n",
    "distancia_tierra = 149597870 #distancia de la tierra\n",
    "distancia_jupiter =778547200 #distancia de jupiter"
   ]
  },
  {
   "cell_type": "code",
   "execution_count": 15,
   "metadata": {},
   "outputs": [
    {
     "name": "stdout",
     "output_type": "stream",
     "text": [
      "la distancia en kilometros entre la tierra y jupiter es:  -628949330\n"
     ]
    }
   ],
   "source": [
    "calculo_de_distancia_km= distancia_tierra - distancia_jupiter\n",
    "print(\"la distancia en kilometros entre la tierra y jupiter es: \" , calculo_de_distancia_km)"
   ]
  },
  {
   "cell_type": "code",
   "execution_count": 16,
   "metadata": {},
   "outputs": [
    {
     "name": "stdout",
     "output_type": "stream",
     "text": [
      "la distancia en millas entre la tierra y jupiter es:  -1012195830.53952\n"
     ]
    }
   ],
   "source": [
    "calculo_de_distancia_millas= calculo_de_distancia_km * 1.609344\n",
    "print(\"la distancia en millas entre la tierra y jupiter es: \" , calculo_de_distancia_millas)"
   ]
  },
  {
   "cell_type": "markdown",
   "metadata": {},
   "source": [
    "# Ejercicio 2: convierte cadenas en números y usa valores absolutos\n",
    "\n",
    "Crear una aplicación para trabajar con números y entrada de usuario"
   ]
  },
  {
   "cell_type": "code",
   "execution_count": 18,
   "metadata": {},
   "outputs": [
    {
     "name": "stdout",
     "output_type": "stream",
     "text": [
      "Hola tripulante , ¿Quieres saber la distancia del sol entre los planetas?\n"
     ]
    }
   ],
   "source": [
    "print(\"Hola tripulante , ¿Quieres saber la distancia del sol entre los planetas?\")\n",
    "primer_planeta=int(input(\"Por favor Introduzca la distancia del sol para el primer planeta en KM: \"))\n",
    "segundo_planeta=int(input(\"Por favor Introduzca la distancia del sol para el segundo planeta en KM: \"))\n"
   ]
  },
  {
   "cell_type": "code",
   "execution_count": 19,
   "metadata": {},
   "outputs": [
    {
     "name": "stdout",
     "output_type": "stream",
     "text": [
      "la distancia en km es:  -91700000\n"
     ]
    }
   ],
   "source": [
    "distancia_kilometros= primer_planeta - segundo_planeta\n",
    "print(\"la distancia en km es: \",distancia_kilometros)\n",
    "\n",
    "distancia_millas= distancia_kilometros *  1.609344\n",
    "print(\"la distancia en millas es: \",distancia_kilometros)\n",
    "\n"
   ]
  }
 ],
 "metadata": {
  "interpreter": {
   "hash": "41bd8b4e76bbda16b15e1db9cb33f238f0771b84cb5f3ccbc3e41a02a43afd95"
  },
  "kernelspec": {
   "display_name": "Python 3.10.2 64-bit",
   "language": "python",
   "name": "python3"
  },
  "language_info": {
   "codemirror_mode": {
    "name": "ipython",
    "version": 3
   },
   "file_extension": ".py",
   "mimetype": "text/x-python",
   "name": "python",
   "nbconvert_exporter": "python",
   "pygments_lexer": "ipython3",
   "version": "3.10.2"
  },
  "orig_nbformat": 4
 },
 "nbformat": 4,
 "nbformat_minor": 2
}
