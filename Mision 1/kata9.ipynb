{
 "cells": [
  {
   "cell_type": "markdown",
   "metadata": {},
   "source": [
    "# Ejercicio: Uso de funciones en Python\n",
    "Ejercicio 1: Trabajar con argumentos en funciones"
   ]
  },
  {
   "cell_type": "code",
   "execution_count": 2,
   "metadata": {},
   "outputs": [
    {
     "name": "stdout",
     "output_type": "stream",
     "text": [
      " reporte completo:\n",
      "    Promedio Total: 68.33333333333333%\n",
      "    tanque de gasolina: 50%\n",
      "    tanque de gas: 60%\n",
      "    tanque de diesel: 95% \n",
      "    \n",
      " reporte completo:\n",
      "    Promedio total: 78.0%\n",
      "    tanque de gasolina: 88%\n",
      "    tanque de gas: 76%\n",
      "    tanque de diesel: 70% \n",
      "    \n"
     ]
    }
   ],
   "source": [
    "def generar_reporte(tanque_gasolina, tanque_gas, tanque_diesel):\n",
    "    promedio_total = (tanque_gasolina + tanque_gas + tanque_diesel) / 3\n",
    "\n",
    "    return f\"\"\" reporte completo:\n",
    "    Promedio Total: {promedio_total}%\n",
    "    tanque de gasolina: {tanque_gasolina}%\n",
    "    tanque de gas: {tanque_gas}%\n",
    "    tanque de diesel: {tanque_diesel}% \n",
    "    \"\"\"\n",
    "# Llamamos a la función que genera el reporte print(funcion(tanque1, tanque2, tanque3))\n",
    "print(generar_reporte(50, 60, 95))\n",
    "\n",
    "\n",
    "\n",
    "# Función promedio \n",
    "def promedio(valores):\n",
    "    total = sum(valores)\n",
    "    numero_de_items = len(valores)\n",
    "    return total / numero_de_items\n",
    "\n",
    "\n",
    "promedio([50, 60, 95]) \n",
    "# Actualiza la función para generar un reporte actualizado\n",
    "def generar_reporte2(tanque_gasolina, tanque_gas, tanque_diesel):\n",
    "    return f\"\"\" reporte completo:\n",
    "    Promedio total: {promedio([tanque_gasolina, tanque_gas, tanque_diesel])}%\n",
    "    tanque de gasolina: {tanque_gasolina}%\n",
    "    tanque de gas: {tanque_gas}%\n",
    "    tanque de diesel: {tanque_diesel}% \n",
    "    \"\"\"\n",
    "print(generar_reporte2(90, 30, 40))"
   ]
  },
  {
   "cell_type": "markdown",
   "metadata": {},
   "source": [
    "# Ejercicio 2: Trabajo con argumentos de palabra clave\n",
    "\n",
    "Ejercicio : Trabajar con argumentos de palabras clave en funciones"
   ]
  },
  {
   "cell_type": "code",
   "execution_count": 7,
   "metadata": {},
   "outputs": [
    {
     "name": "stdout",
     "output_type": "stream",
     "text": [
      "\n",
      "    Viaje a:  Jupiter\n",
      "    Tiempo total de viaje: 36 minutos\n",
      "    combustible disponible: 399000 gallones\n",
      "    \n",
      "\n",
      "    Viaje a : Urano\n",
      "    Tiempo total del viaje: 55 minutos\n",
      "    Total de combustible disponible: 500000 galones\n",
      "    \n",
      "\n",
      "    Viaje a: Urano\n",
      "    Tiempo total del viaje: 39 minutos\n",
      "    Total del combustible disponible: 1000000 galones\n",
      "    interno tanque --> 900000 galones disponibles \n",
      "externo tanque --> 100000 galones disponibles \n",
      "\n"
     ]
    }
   ],
   "source": [
    "# Función con un informe preciso de la misión. Considera hora de prelanzamiento, tiempo de vuelo, destino, tanque externo y tanque interno\n",
    "\n",
    "def reporte_mision( hora_de_prelanzamiento, tiempo_de_vuelo, destino, tanque_externo ,tanque_interno):\n",
    "    return f\"\"\"\n",
    "    Viaje a:  {destino}\n",
    "    Tiempo total de viaje: {hora_de_prelanzamiento + tiempo_de_vuelo} minutos\n",
    "    combustible disponible: {tanque_externo + tanque_interno} gallones\n",
    "    \"\"\"\n",
    "\n",
    "print(reporte_mision(14, 22, \"Jupiter\", 100000, 299000))\n",
    "# Escribe tu nueva función de reporte considerando lo anterior\n",
    "\n",
    "def reporte_mision2(destino2, *minutos, **combustible_disponible):\n",
    "    return f\"\"\"\n",
    "    Viaje a : {destino2}\n",
    "    Tiempo total del viaje: {sum(minutos)} minutos\n",
    "    Total de combustible disponible: {sum(combustible_disponible.values())} galones\n",
    "    \"\"\"\n",
    "\n",
    "print(reporte_mision2(\"Urano\", 14, 30, 11, interno=300000, externo=200000))\n",
    "# Escribe tu nueva función\n",
    "\n",
    "def reporte_mision3(destino, *minutos, **combustible_disponible):\n",
    "    reporteX = f\"\"\"\n",
    "    Viaje a: {destino}\n",
    "    Tiempo total del viaje: {sum(minutos)} minutos\n",
    "    Total del combustible disponible: {sum(combustible_disponible.values())} galones\n",
    "    \"\"\"\n",
    "    for tanque, galones in combustible_disponible.items():\n",
    "        reporteX += f\"{tanque} tanque --> {galones} galones disponibles \\n\"\n",
    "    return reporteX\n",
    "\n",
    "print(reporte_mision3(\"Urano\", 8, 31, 0, interno=900000, externo=100000))\n",
    "\n",
    "\n"
   ]
  }
 ],
 "metadata": {
  "interpreter": {
   "hash": "41bd8b4e76bbda16b15e1db9cb33f238f0771b84cb5f3ccbc3e41a02a43afd95"
  },
  "kernelspec": {
   "display_name": "Python 3.10.2 64-bit",
   "language": "python",
   "name": "python3"
  },
  "language_info": {
   "codemirror_mode": {
    "name": "ipython",
    "version": 3
   },
   "file_extension": ".py",
   "mimetype": "text/x-python",
   "name": "python",
   "nbconvert_exporter": "python",
   "pygments_lexer": "ipython3",
   "version": "3.10.2"
  },
  "orig_nbformat": 4
 },
 "nbformat": 4,
 "nbformat_minor": 2
}
