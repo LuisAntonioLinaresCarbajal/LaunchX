{
 "cells": [
  {
   "cell_type": "markdown",
   "metadata": {},
   "source": [
    "# kata 7 ejercicio 1 Creacion de un bucle while\n",
    "\n",
    "uso de ciclos while en python"
   ]
  },
  {
   "cell_type": "code",
   "execution_count": 2,
   "metadata": {},
   "outputs": [],
   "source": [
    "nuevo_planeta=input(\"por favor ingresa una lista de planetas y para terminarla escribe 'done'. \")\n",
    "planetas=[]\n",
    "while nuevo_planeta.lower() != 'done':\n",
    "    nuevo_planeta=str(input(\"por favor ingresa un planeta: \"))\n",
    "    if nuevo_planeta:\n",
    "        planetas.append(nuevo_planeta)\n",
    "        print(\"la lista de planetas es : \",planetas)\n",
    "\n"
   ]
  },
  {
   "cell_type": "markdown",
   "metadata": {},
   "source": [
    "# Ejercicio 2 Creacion de un ciclo for\n",
    "\n"
   ]
  },
  {
   "cell_type": "code",
   "execution_count": 1,
   "metadata": {},
   "outputs": [
    {
     "name": "stdout",
     "output_type": "stream",
     "text": [
      "n\n",
      "n\n",
      "p\n"
     ]
    }
   ],
   "source": [
    "nuevo_planeta=input(\"por favor ingresa una lista de planetas y para terminarla escribe 'done'. \")\n",
    "planetas=[]\n",
    "planeta=[]\n",
    "while nuevo_planeta.lower() != 'done':\n",
    "    nuevo_planeta=str(input(\"por favor ingresa un planeta: \"))\n",
    "    if nuevo_planeta:\n",
    "        planetas.append(nuevo_planeta)\n",
    "    for planeta in planetas:\n",
    "        print(planeta)\n",
    "                "
   ]
  }
 ],
 "metadata": {
  "interpreter": {
   "hash": "41bd8b4e76bbda16b15e1db9cb33f238f0771b84cb5f3ccbc3e41a02a43afd95"
  },
  "kernelspec": {
   "display_name": "Python 3.10.2 64-bit",
   "language": "python",
   "name": "python3"
  },
  "language_info": {
   "codemirror_mode": {
    "name": "ipython",
    "version": 3
   },
   "file_extension": ".py",
   "mimetype": "text/x-python",
   "name": "python",
   "nbconvert_exporter": "python",
   "pygments_lexer": "ipython3",
   "version": "3.10.2"
  },
  "orig_nbformat": 4
 },
 "nbformat": 4,
 "nbformat_minor": 2
}
