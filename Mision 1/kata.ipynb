{
 "cells": [
  {
   "cell_type": "markdown",
   "metadata": {},
   "source": [
    "## Tu primer programa \n",
    "\n",
    "este programa  muestra la fecha del dia de hoy!"
   ]
  },
  {
   "cell_type": "code",
   "execution_count": null,
   "metadata": {},
   "outputs": [],
   "source": [
    "import datetime \n",
    "fecha_y_hora =datetime.datetime.now()\n",
    "print(\"Hoy estamos a:\" ,fecha_y_hora.strftime('%d/%m/%Y') ,str(\"y son las :\"), fecha_y_hora.strftime('%H:%M:%S') )"
   ]
  },
  {
   "cell_type": "markdown",
   "metadata": {},
   "source": [
    "# Construir un convertidor de unidades\n",
    "\n",
    "programa de conversión entre parsecs y años luz."
   ]
  },
  {
   "cell_type": "code",
   "execution_count": null,
   "metadata": {},
   "outputs": [],
   "source": [
    "print (\"Bienvenido tripulante, ¿problemas con la conversión entre parsecs y años luz?\")\n",
    "respuesta_tripiulante = str(input(\"ingresa tu respuesta: \"))\n",
    "if respuesta_tripiulante == str(\"si\"):\n",
    "    print (\"descuida el programa conversor universal LaunchX te ayudara... \\n\")\n",
    "    numero_de_parsecs = int(input(\"por favor ingrese los parsec: \"))\n",
    "    añosLuz= 3.26156 * numero_de_parsecs\n",
    "    print(numero_de_parsecs , \" parsec es el equivalente a:\" , añosLuz, \"años luz.\" )\n",
    "    print(\"fin de la comversion, suerte en tu viaje.\")\n",
    "    exit()\n",
    "else:\n",
    "    print(\"ok tripulante, si necesitas ayuda no dudes en acudir a Universal LaunchX, bye.\")\n",
    "    exit()\n"
   ]
  }
 ],
 "metadata": {
  "interpreter": {
   "hash": "41bd8b4e76bbda16b15e1db9cb33f238f0771b84cb5f3ccbc3e41a02a43afd95"
  },
  "kernelspec": {
   "display_name": "Python 3.10.2 64-bit",
   "language": "python",
   "name": "python3"
  },
  "language_info": {
   "codemirror_mode": {
    "name": "ipython",
    "version": 3
   },
   "file_extension": ".py",
   "mimetype": "text/x-python",
   "name": "python",
   "nbconvert_exporter": "python",
   "pygments_lexer": "ipython3",
   "version": "3.10.2"
  },
  "orig_nbformat": 4
 },
 "nbformat": 4,
 "nbformat_minor": 2
}
