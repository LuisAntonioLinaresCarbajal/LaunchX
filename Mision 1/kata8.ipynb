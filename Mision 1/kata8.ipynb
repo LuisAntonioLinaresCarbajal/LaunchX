{
 "cells": [
  {
   "cell_type": "markdown",
   "metadata": {},
   "source": [
    "# Ejercicio 8 diccionarios.\n",
    "\n",
    "crear y modificar un diccionario"
   ]
  },
  {
   "cell_type": "code",
   "execution_count": 2,
   "metadata": {},
   "outputs": [
    {
     "name": "stdout",
     "output_type": "stream",
     "text": [
      "Marte tiene :  2 lunas\n",
      "Marte tiene : 2 lunas\n",
      "el planeta se llma  Marte\n",
      "Marte tiene : 6752 de circunferencia\n",
      "Marte tiene:  6752 de circunferencia polar\n"
     ]
    }
   ],
   "source": [
    "planeta ={\n",
    "    'nombre': \"Marte\",\n",
    "    'Lunas': 2,\n",
    "    'polar': 6752,\n",
    "    'ecuatoruial':6792,\n",
    "    'circunferencia':6752\n",
    "}\n",
    "print(planeta [\"nombre\"] , \"tiene : \" ,planeta[\"Lunas\"], \"lunas\")\n",
    "print(f'{planeta[\"nombre\"]} tiene : {planeta[\"Lunas\"]} lunas')\n",
    "print(\"el planeta se llma \" , planeta.get(\"nombre\"))\n",
    "print(f'{planeta[\"nombre\"]} tiene : {planeta[\"circunferencia\"]} de circunferencia')\n",
    "print(f'{planeta[\"nombre\"]} tiene:  {planeta[\"polar\"]} de circunferencia polar')\n",
    "#planeta.update({'polar':6752',ecuatorial':6792})\n",
    "\n",
    "\n"
   ]
  },
  {
   "cell_type": "markdown",
   "metadata": {},
   "source": [
    "# Ejercicio 2 Programacion dinamica con diccionarios"
   ]
  },
  {
   "cell_type": "markdown",
   "metadata": {},
   "source": []
  },
  {
   "cell_type": "code",
   "execution_count": null,
   "metadata": {},
   "outputs": [],
   "source": [
    "lunas_de_planetas= {\n",
    "    'mercurio':0,\n",
    "    'venus':0,\n",
    "    'tierra':1,\n",
    "    'marte':2,\n",
    "    'jupiter':79,\n",
    "    'saturno':82,\n",
    "    'urano':27,\n",
    "    'neptuno':14,\n",
    "    'pluton':5,\n",
    "    'haumea':2,\n",
    "    'makemake':1,\n",
    "    'eris':1,\n",
    "}\n",
    "\n",
    "for key in lunas_de_planetas.keys():\n",
    "    print(f'{key}: {lunas_de_planetas[key]} cm')\n",
    "print(\"existen :\", lunas_de_planetas.__len__(), \"planetas\")\n",
    "\n",
    "for key in lunas_de_planetas.keys():\n",
    "    print(f'{key}: {lunas_de_planetas[key]} cm')\n",
    "\n",
    "\"\"\"lunas= lunas_de_planetas.values()\n",
    "print(lunas)\n",
    "print(int(lunas.__len__()))\n",
    "\"\"\""
   ]
  },
  {
   "cell_type": "markdown",
   "metadata": {},
   "source": [
    "# sumar las lunas y obtener el promedio de lunas por planeta\n"
   ]
  },
  {
   "cell_type": "code",
   "execution_count": 11,
   "metadata": {},
   "outputs": [
    {
     "name": "stdout",
     "output_type": "stream",
     "text": [
      "bienvenido tripulante en este programa tendras que ingresar el numero de lunas para cada planeta.\n",
      "los planetas son: \n",
      "\n",
      "planeta 1: mercurio \n",
      "planeta 2: venus \n",
      "planeta 3: tierra \n",
      "planeta 4: marte \n",
      "planeta 5: jupiter \n",
      "planeta 6: saturno \n",
      "planeta 7: urano \n",
      "planeta 8: neptuno \n",
      "planeta 9: pluton \n",
      "planeta 10: haumea \n",
      "planeta 11: makemake \n",
      "planeta 12: eris \n",
      "el numero de lunas es :  0\n",
      "el numero de lunas es :  0\n",
      "el numero de lunas es :  1\n",
      "el numero de lunas es :  95\n",
      "el numero de lunas es :  8\n",
      "el numero de lunas es :  9\n",
      "el numero de lunas es :  0\n",
      "el numero de lunas es :  2\n",
      "el numero de lunas es :  1\n",
      "el numero de lunas es :  0\n",
      "el numero de lunas es :  1\n",
      "el numero de lunas es :  0\n",
      "el numero de lunas es :  done\n",
      "la lista de las lunas es la siguiente:  ['0', '0', '1', '95', '8', '9', '0', '2', '1', '0', '1', '0', 'done']\n",
      "existen  12  planetas\n"
     ]
    },
    {
     "ename": "TypeError",
     "evalue": "int() argument must be a string, a bytes-like object or a real number, not 'list'",
     "output_type": "error",
     "traceback": [
      "\u001b[1;31m---------------------------------------------------------------------------\u001b[0m",
      "\u001b[1;31mTypeError\u001b[0m                                 Traceback (most recent call last)",
      "Input \u001b[1;32mIn [11]\u001b[0m, in \u001b[0;36m<module>\u001b[1;34m\u001b[0m\n\u001b[0;32m     36\u001b[0m \u001b[39mprint\u001b[39m(\u001b[39m\"\u001b[39m\u001b[39mexisten \u001b[39m\u001b[39m\"\u001b[39m,diccionario_planetas\u001b[39m.\u001b[39m\u001b[39m__len__\u001b[39m(),\u001b[39m\"\u001b[39m\u001b[39m planetas\u001b[39m\u001b[39m\"\u001b[39m)\n\u001b[0;32m     37\u001b[0m \u001b[39m# Almacenamos los resultados en una variable llamada years\u001b[39;00m\n\u001b[1;32m---> 38\u001b[0m a\u001b[39m=\u001b[39m\u001b[39msum\u001b[39m(\u001b[39mint\u001b[39;49m(lista_lunas))\n",
      "\u001b[1;31mTypeError\u001b[0m: int() argument must be a string, a bytes-like object or a real number, not 'list'"
     ]
    }
   ],
   "source": [
    "diccionario_planetas= {\n",
    "    \"planeta 1\" : 'mercurio',\n",
    "    \"planeta 2\":'venus',\n",
    "    \"planeta 3\":'tierra',\n",
    "    \"planeta 4\":'marte',\n",
    "    \"planeta 5\":'jupiter',\n",
    "    \"planeta 6\":'saturno',\n",
    "    \"planeta 7\":'urano',\n",
    "    \"planeta 8\":'neptuno',\n",
    "    \"planeta 9\":'pluton',\n",
    "    \"planeta 10\":'haumea',\n",
    "    \"planeta 11\":'makemake',\n",
    "    \"planeta 12\":'eris'\n",
    "}\n",
    "print(\"bienvenido tripulante en este programa tendras que ingresar el numero de lunas para cada planeta.\")\n",
    "print(\"los planetas son: \\n\")\n",
    "for key in diccionario_planetas.keys():\n",
    "    print(f'{key}: {diccionario_planetas[key]} ')\n",
    "\n",
    "# Añade el código para determinar el número de lunas.\n",
    "\n",
    "lunas=input(\"ingresa el numero de lunas para cada planeta en orden que se te mostro anteriormente: \")\n",
    "lista_lunas=[]\n",
    "while lunas.lower() != 'done':\n",
    "    lunas=str(input(\"ingresa el numero de lunas para cada planeta en orden que se te mostro anteriormente: \"))\n",
    "    if lunas:\n",
    "        lista_lunas.append(lunas)\n",
    "        print(\"el numero de lunas es : \",lunas)\n",
    "\n",
    "# Obtenemos la lista de las lunas\n",
    "print(\"la lista de las lunas es la siguiente: \", lista_lunas)\n",
    "# Almacenamos los resultados en una variable moons\n",
    "moons = diccionario_planetas.values()\n",
    "\n",
    "# Obtenemos el total de planetas\n",
    "print(\"existen \",diccionario_planetas.__len__(),\" planetas\")\n",
    "# Almacenamos los resultados en una variable llamada years\n",
    "a=sum((lista_lunas))\n",
    "0"
   ]
  }
 ],
 "metadata": {
  "interpreter": {
   "hash": "41bd8b4e76bbda16b15e1db9cb33f238f0771b84cb5f3ccbc3e41a02a43afd95"
  },
  "kernelspec": {
   "display_name": "Python 3.10.2 64-bit",
   "language": "python",
   "name": "python3"
  },
  "language_info": {
   "codemirror_mode": {
    "name": "ipython",
    "version": 3
   },
   "file_extension": ".py",
   "mimetype": "text/x-python",
   "name": "python",
   "nbconvert_exporter": "python",
   "pygments_lexer": "ipython3",
   "version": "3.10.2"
  },
  "orig_nbformat": 4
 },
 "nbformat": 4,
 "nbformat_minor": 2
}
