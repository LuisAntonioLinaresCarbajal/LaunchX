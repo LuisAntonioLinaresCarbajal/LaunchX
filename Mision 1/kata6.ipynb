{
 "cells": [
  {
   "cell_type": "markdown",
   "metadata": {},
   "source": [
    "# Ejercicio1: Crear y usar listas de Python\n",
    "\n",
    "Ejercicio: Usar listas para almacenar nombres de planetas"
   ]
  },
  {
   "cell_type": "code",
   "execution_count": 5,
   "metadata": {},
   "outputs": [
    {
     "name": "stdout",
     "output_type": "stream",
     "text": [
      "Hay 8 planetas y son: \n",
      " ['Mercurio', 'Venus', 'Tierra', 'Marte', 'Jupiter', 'Saturno', 'Neptuno', 'Urano']\n"
     ]
    }
   ],
   "source": [
    "lista_planetas=['Mercurio', 'Venus', 'Tierra', 'Marte', 'Jupiter', 'Saturno', 'Neptuno', 'Urano']\n",
    "print('Hay', len(lista_planetas), 'planetas y son: \\n'  , lista_planetas)"
   ]
  },
  {
   "cell_type": "code",
   "execution_count": 6,
   "metadata": {},
   "outputs": [
    {
     "name": "stdout",
     "output_type": "stream",
     "text": [
      "Pluton\n"
     ]
    }
   ],
   "source": [
    "lista_planetas.append(\"Pluton\")\n",
    "print(lista_planetas[-1])"
   ]
  },
  {
   "cell_type": "markdown",
   "metadata": {},
   "source": [
    "# Ejercicio 2: Trabajando con datos de una lista\n",
    "\n",
    "Usar slices para recuperar partes de una lista\n",
    "Es posible que debas trabajar con diferentes secciones de una lista. En nuestro ejemplo, queremos mostrar planetas más cerca y más lejos del sol de un planeta que el usuario ingresa por teclado."
   ]
  },
  {
   "cell_type": "code",
   "execution_count": 7,
   "metadata": {},
   "outputs": [],
   "source": [
    "lista_planetaria= ['Mercurio', 'Venus', 'Tierra', 'Marte', 'Jupiter', 'Saturno', 'Neptuno']"
   ]
  },
  {
   "cell_type": "code",
   "execution_count": 11,
   "metadata": {},
   "outputs": [
    {
     "name": "stdout",
     "output_type": "stream",
     "text": [
      "los planetas mas sercanos a Jupiter son: \n",
      "['Mercurio', 'Venus', 'Tierra', 'Marte']\n",
      "los planetas mas lejanos a Jupiter son: \n",
      "['Saturno', 'Neptuno']\n"
     ]
    }
   ],
   "source": [
    "planeta_usuario=str(input(\"Hola usuario por favor ingresa un planeta y por favor inicia con la letra mayuscula: \"))\n",
    "\n",
    "planet_index = lista_planetaria.index(planeta_usuario)\n",
    "print('los planetas mas sercanos a ' + planeta_usuario + str(\" son: \"))\n",
    "print(lista_planetaria[0:planet_index])\n",
    "print('los planetas mas lejanos a ' + planeta_usuario  + str(\" son: \"))\n",
    "print(lista_planetaria[planet_index + 1:])"
   ]
  }
 ],
 "metadata": {
  "interpreter": {
   "hash": "41bd8b4e76bbda16b15e1db9cb33f238f0771b84cb5f3ccbc3e41a02a43afd95"
  },
  "kernelspec": {
   "display_name": "Python 3.10.2 64-bit",
   "language": "python",
   "name": "python3"
  },
  "language_info": {
   "codemirror_mode": {
    "name": "ipython",
    "version": 3
   },
   "file_extension": ".py",
   "mimetype": "text/x-python",
   "name": "python",
   "nbconvert_exporter": "python",
   "pygments_lexer": "ipython3",
   "version": "3.10.2"
  },
  "orig_nbformat": 4
 },
 "nbformat": 4,
 "nbformat_minor": 2
}
